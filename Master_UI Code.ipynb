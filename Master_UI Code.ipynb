{
 "cells": [
  {
   "cell_type": "code",
   "execution_count": null,
   "metadata": {},
   "outputs": [
    {
     "name": "stdout",
     "output_type": "stream",
     "text": [
      "<UI_Code.LondonStocks object at 0x00000264794F7C18>\n",
      "2012\n",
      "13.599794934865901 [13.599794934865901]\n",
      "2013\n",
      "15.118139287356323 [13.599794934865901, 15.118139287356323]\n",
      "2014\n",
      "42.24296195019157 [13.599794934865901, 15.118139287356323, 42.24296195019157]\n",
      "2015\n",
      "27.453473655172413 [13.599794934865901, 15.118139287356323, 42.24296195019157, 27.453473655172413]\n",
      " * Serving Flask app \"__main__\" (lazy loading)\n",
      " * Environment: production\n",
      "   WARNING: Do not use the development server in a production environment.\n",
      "   Use a production WSGI server instead.\n",
      " * Debug mode: off\n"
     ]
    },
    {
     "name": "stderr",
     "output_type": "stream",
     "text": [
      " * Running on http://127.0.0.1:1111/ (Press CTRL+C to quit)\n",
      "127.0.0.1 - - [01/Dec/2018 18:20:28] \"\u001b[37mGET / HTTP/1.1\u001b[0m\" 200 -\n",
      "127.0.0.1 - - [01/Dec/2018 18:20:29] \"\u001b[37mGET /_dash-layout HTTP/1.1\u001b[0m\" 200 -\n",
      "127.0.0.1 - - [01/Dec/2018 18:20:29] \"\u001b[37mGET /_dash-dependencies HTTP/1.1\u001b[0m\" 200 -\n",
      "127.0.0.1 - - [01/Dec/2018 18:20:30] \"\u001b[37mGET /_favicon.ico HTTP/1.1\u001b[0m\" 200 -\n"
     ]
    },
    {
     "name": "stdout",
     "output_type": "stream",
     "text": [
      "Printing results\n"
     ]
    }
   ],
   "source": [
    "import sys\n",
    "from PyQt5.QtCore import pyqtSlot\n",
    "from PyQt5.QtWidgets import QApplication, QDialog\n",
    "from PyQt5.uic import loadUi\n",
    "\n",
    "class MainPage(QDialog):\n",
    "    def __init__(self):\n",
    "        super(MainPage, self).__init__()\n",
    "        loadUi('homepage.ui',self)\n",
    "        #call the function to move to the currency exchange ui\n",
    "        self.pushButton.clicked.connect(self.move1)\n",
    "        #call the function to move to the us stock exchange ui\n",
    "        self.pushButton_4.clicked.connect(self.move2)\n",
    "        #call the function to move to the london stock exchange ui\n",
    "        self.pushButton_2.clicked.connect(self.move3)\n",
    "        #call the function to move to the shenzhen stock exchange ui\n",
    "        self.pushButton_3.clicked.connect(self.move4)\n",
    "    def move1(self):\n",
    "        from currency import AppWindow\n",
    "        theclass= AppWindow()\n",
    "        print(theclass)\n",
    "        theclass.exec_()\n",
    "    def move2(self):\n",
    "        from stocks import AppWindow2\n",
    "        theclass= AppWindow2()\n",
    "        print(theclass)\n",
    "        theclass.exec_()\n",
    "    def move3(self):\n",
    "        from UI_Code import LondonStocks\n",
    "        theclass=LondonStocks()\n",
    "        print(theclass)\n",
    "        theclass.exec_()\n",
    "    def move4(self):\n",
    "        from loader import stocks\n",
    "        theclass=stocks()\n",
    "        print(theclass)\n",
    "        theclass.exec_()\n",
    "\n",
    "app=QApplication(sys.argv)\n",
    "widget=MainPage()\n",
    "widget.show()\n",
    "sys.exit(app.exec_())"
   ]
  },
  {
   "cell_type": "code",
   "execution_count": null,
   "metadata": {},
   "outputs": [],
   "source": []
  },
  {
   "cell_type": "code",
   "execution_count": null,
   "metadata": {},
   "outputs": [],
   "source": []
  },
  {
   "cell_type": "code",
   "execution_count": null,
   "metadata": {},
   "outputs": [],
   "source": []
  }
 ],
 "metadata": {
  "kernelspec": {
   "display_name": "Python 3",
   "language": "python",
   "name": "python3"
  },
  "language_info": {
   "codemirror_mode": {
    "name": "ipython",
    "version": 3
   },
   "file_extension": ".py",
   "mimetype": "text/x-python",
   "name": "python",
   "nbconvert_exporter": "python",
   "pygments_lexer": "ipython3",
   "version": "3.6.0"
  }
 },
 "nbformat": 4,
 "nbformat_minor": 2
}
