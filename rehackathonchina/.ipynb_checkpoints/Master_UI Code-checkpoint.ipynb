{
 "cells": [
  {
   "cell_type": "code",
   "execution_count": null,
   "metadata": {},
   "outputs": [],
   "source": [
    "import sys\n",
    "from PyQt5.QtCore import pyqtSlot\n",
    "from PyQt5.QtWidgets import QApplication, QDialog\n",
    "from PyQt5.uic import loadUi\n",
    "\n",
    "class MainPage(QDialog):\n",
    "    def __init__(self):\n",
    "        super(MainPage, self).__init__()\n",
    "        loadUi('homepage.ui',self)\n",
    "        #call the function to move to the currency exchange ui\n",
    "        self.pushButton.clicked.connect(self.move1)\n",
    "        #call the function to move to the us stock exchange ui\n",
    "        self.pushButton_4.clicked.connect(self.move2)\n",
    "        #call the function to move to the london stock exchange ui\n",
    "        self.pushButton_2.clicked.connect(self.move3)\n",
    "        #call the function to move to the shenzhen stock exchange ui\n",
    "        self.pushButton_3.clicked.connect(self.move4)\n",
    "    def move1(self):\n",
    "        from currency import AppWindow\n",
    "        theclass= AppWindow()\n",
    "        print(theclass)\n",
    "        theclass.exec_()\n",
    "    def move2(self):\n",
    "        from stocks import AppWindow2\n",
    "        theclass= AppWindow2()\n",
    "        print(theclass)\n",
    "        theclass.exec_()\n",
    "    def move3(self):\n",
    "        from UI_Code import LondonStocks\n",
    "        theclass=LondonStocks()\n",
    "        print(theclass)\n",
    "        theclass.exec_()\n",
    "    def move4(self):\n",
    "        from loader import stocks\n",
    "        theclass=stocks()\n",
    "        print(theclass)\n",
    "        theclass.exec_()\n",
    "\n",
    "app=QApplication(sys.argv)\n",
    "widget=MainPage()\n",
    "widget.show()\n",
    "sys.exit(app.exec_())"
   ]
  },
  {
   "cell_type": "code",
   "execution_count": null,
   "metadata": {},
   "outputs": [],
   "source": []
  }
 ],
 "metadata": {
  "kernelspec": {
   "display_name": "Python 3",
   "language": "python",
   "name": "python3"
  },
  "language_info": {
   "codemirror_mode": {
    "name": "ipython",
    "version": 3
   },
   "file_extension": ".py",
   "mimetype": "text/x-python",
   "name": "python",
   "nbconvert_exporter": "python",
   "pygments_lexer": "ipython3",
   "version": "3.6.0"
  }
 },
 "nbformat": 4,
 "nbformat_minor": 2
}
