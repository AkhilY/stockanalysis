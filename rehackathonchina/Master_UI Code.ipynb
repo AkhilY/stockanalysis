{
 "cells": [
  {
   "cell_type": "code",
   "execution_count": 1,
   "metadata": {},
   "outputs": [
    {
     "ename": "ModuleNotFoundError",
     "evalue": "No module named 'forex_python'",
     "output_type": "error",
     "traceback": [
      "\u001b[1;31m---------------------------------------------------------------------------\u001b[0m",
      "\u001b[1;31mModuleNotFoundError\u001b[0m                       Traceback (most recent call last)",
      "\u001b[1;32m<ipython-input-1-22771934ed75>\u001b[0m in \u001b[0;36mmove1\u001b[1;34m(self)\u001b[0m\n\u001b[0;32m     17\u001b[0m         \u001b[0mself\u001b[0m\u001b[1;33m.\u001b[0m\u001b[0mpushButton_3\u001b[0m\u001b[1;33m.\u001b[0m\u001b[0mclicked\u001b[0m\u001b[1;33m.\u001b[0m\u001b[0mconnect\u001b[0m\u001b[1;33m(\u001b[0m\u001b[0mself\u001b[0m\u001b[1;33m.\u001b[0m\u001b[0mmove4\u001b[0m\u001b[1;33m)\u001b[0m\u001b[1;33m\u001b[0m\u001b[0m\n\u001b[0;32m     18\u001b[0m     \u001b[1;32mdef\u001b[0m \u001b[0mmove1\u001b[0m\u001b[1;33m(\u001b[0m\u001b[0mself\u001b[0m\u001b[1;33m)\u001b[0m\u001b[1;33m:\u001b[0m\u001b[1;33m\u001b[0m\u001b[0m\n\u001b[1;32m---> 19\u001b[1;33m         \u001b[1;32mfrom\u001b[0m \u001b[0mcurrency\u001b[0m \u001b[1;32mimport\u001b[0m \u001b[0mAppWindow\u001b[0m\u001b[1;33m\u001b[0m\u001b[0m\n\u001b[0m\u001b[0;32m     20\u001b[0m         \u001b[0mtheclass\u001b[0m\u001b[1;33m=\u001b[0m \u001b[0mAppWindow\u001b[0m\u001b[1;33m(\u001b[0m\u001b[1;33m)\u001b[0m\u001b[1;33m\u001b[0m\u001b[0m\n\u001b[0;32m     21\u001b[0m         \u001b[0mprint\u001b[0m\u001b[1;33m(\u001b[0m\u001b[0mtheclass\u001b[0m\u001b[1;33m)\u001b[0m\u001b[1;33m\u001b[0m\u001b[0m\n",
      "\u001b[1;32m~\\appdata\\local\\programs\\python\\python36\\scripts\\rehackathonchina\\currency.py\u001b[0m in \u001b[0;36m<module>\u001b[1;34m()\u001b[0m\n\u001b[0;32m      3\u001b[0m \u001b[1;32mfrom\u001b[0m \u001b[0mexchange1\u001b[0m \u001b[1;32mimport\u001b[0m \u001b[0mUi_Dialog\u001b[0m\u001b[1;33m\u001b[0m\u001b[0m\n\u001b[0;32m      4\u001b[0m \u001b[1;32mimport\u001b[0m \u001b[0msys\u001b[0m\u001b[1;33m\u001b[0m\u001b[0m\n\u001b[1;32m----> 5\u001b[1;33m \u001b[1;32mfrom\u001b[0m \u001b[0mforex_python\u001b[0m\u001b[1;33m.\u001b[0m\u001b[0mconverter\u001b[0m \u001b[1;32mimport\u001b[0m \u001b[0mCurrencyRates\u001b[0m\u001b[1;33m\u001b[0m\u001b[0m\n\u001b[0m\u001b[0;32m      6\u001b[0m \u001b[1;32mfrom\u001b[0m \u001b[0mdatetime\u001b[0m \u001b[1;32mimport\u001b[0m \u001b[0mdatetime\u001b[0m\u001b[1;33m\u001b[0m\u001b[0m\n\u001b[0;32m      7\u001b[0m \u001b[1;32mimport\u001b[0m \u001b[0mdash\u001b[0m\u001b[1;33m\u001b[0m\u001b[0m\n",
      "\u001b[1;31mModuleNotFoundError\u001b[0m: No module named 'forex_python'"
     ]
    },
    {
     "ename": "SystemExit",
     "evalue": "0",
     "output_type": "error",
     "traceback": [
      "An exception has occurred, use %tb to see the full traceback.\n",
      "\u001b[1;31mSystemExit\u001b[0m\u001b[1;31m:\u001b[0m 0\n"
     ]
    },
    {
     "name": "stderr",
     "output_type": "stream",
     "text": [
      "c:\\users\\saks\\appdata\\local\\programs\\python\\python36\\lib\\site-packages\\IPython\\core\\interactiveshell.py:2969: UserWarning: To exit: use 'exit', 'quit', or Ctrl-D.\n",
      "  warn(\"To exit: use 'exit', 'quit', or Ctrl-D.\", stacklevel=1)\n"
     ]
    }
   ],
   "source": [
    "import sys\n",
    "from PyQt5.QtCore import pyqtSlot\n",
    "from PyQt5.QtWidgets import QApplication, QDialog\n",
    "from PyQt5.uic import loadUi\n",
    "\n",
    "class MainPage(QDialog):\n",
    "    def __init__(self):\n",
    "        super(MainPage, self).__init__()\n",
    "        loadUi('homepage.ui',self)\n",
    "        #call the function to move to the currency exchange ui\n",
    "        self.pushButton.clicked.connect(self.move1)\n",
    "        #call the function to move to the us stock exchange ui\n",
    "        self.pushButton_4.clicked.connect(self.move2)\n",
    "        #call the function to move to the london stock exchange ui\n",
    "        self.pushButton_2.clicked.connect(self.move3)\n",
    "        #call the function to move to the shenzhen stock exchange ui\n",
    "        self.pushButton_3.clicked.connect(self.move4)\n",
    "    def move1(self):\n",
    "        from currency import AppWindow\n",
    "        theclass= AppWindow()\n",
    "        print(theclass)\n",
    "        theclass.exec_()\n",
    "    def move2(self):\n",
    "        from stocks import AppWindow2\n",
    "        theclass= AppWindow2()\n",
    "        print(theclass)\n",
    "        theclass.exec_()\n",
    "    def move3(self):\n",
    "        from UI_Code import LondonStocks\n",
    "        theclass=LondonStocks()\n",
    "        print(theclass)\n",
    "        theclass.exec_()\n",
    "    def move4(self):\n",
    "        from loader import stocks\n",
    "        theclass=stocks()\n",
    "        print(theclass)\n",
    "        theclass.exec_()\n",
    "\n",
    "app=QApplication(sys.argv)\n",
    "widget=MainPage()\n",
    "widget.show()\n",
    "sys.exit(app.exec_())"
   ]
  },
  {
   "cell_type": "code",
   "execution_count": null,
   "metadata": {},
   "outputs": [],
   "source": []
  }
 ],
 "metadata": {
  "kernelspec": {
   "display_name": "Python 3",
   "language": "python",
   "name": "python3"
  },
  "language_info": {
   "codemirror_mode": {
    "name": "ipython",
    "version": 3
   },
   "file_extension": ".py",
   "mimetype": "text/x-python",
   "name": "python",
   "nbconvert_exporter": "python",
   "pygments_lexer": "ipython3",
   "version": "3.6.0"
  }
 },
 "nbformat": 4,
 "nbformat_minor": 2
}
