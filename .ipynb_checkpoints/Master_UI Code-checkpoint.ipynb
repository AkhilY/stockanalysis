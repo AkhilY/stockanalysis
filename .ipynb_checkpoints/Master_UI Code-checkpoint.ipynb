{
 "cells": [
  {
   "cell_type": "code",
   "execution_count": null,
   "metadata": {},
   "outputs": [
    {
     "ename": "ModuleNotFoundError",
     "evalue": "No module named 'sklearn'",
     "output_type": "error",
     "traceback": [
      "\u001b[1;31m---------------------------------------------------------------------------\u001b[0m",
      "\u001b[1;31mModuleNotFoundError\u001b[0m                       Traceback (most recent call last)",
      "\u001b[1;32m<ipython-input-1-22771934ed75>\u001b[0m in \u001b[0;36mmove3\u001b[1;34m(self)\u001b[0m\n\u001b[0;32m     27\u001b[0m         \u001b[0mtheclass\u001b[0m\u001b[1;33m.\u001b[0m\u001b[0mexec_\u001b[0m\u001b[1;33m(\u001b[0m\u001b[1;33m)\u001b[0m\u001b[1;33m\u001b[0m\u001b[0m\n\u001b[0;32m     28\u001b[0m     \u001b[1;32mdef\u001b[0m \u001b[0mmove3\u001b[0m\u001b[1;33m(\u001b[0m\u001b[0mself\u001b[0m\u001b[1;33m)\u001b[0m\u001b[1;33m:\u001b[0m\u001b[1;33m\u001b[0m\u001b[0m\n\u001b[1;32m---> 29\u001b[1;33m         \u001b[1;32mfrom\u001b[0m \u001b[0mUI_Code\u001b[0m \u001b[1;32mimport\u001b[0m \u001b[0mLondonStocks\u001b[0m\u001b[1;33m\u001b[0m\u001b[0m\n\u001b[0m\u001b[0;32m     30\u001b[0m         \u001b[0mtheclass\u001b[0m\u001b[1;33m=\u001b[0m\u001b[0mLondonStocks\u001b[0m\u001b[1;33m(\u001b[0m\u001b[1;33m)\u001b[0m\u001b[1;33m\u001b[0m\u001b[0m\n\u001b[0;32m     31\u001b[0m         \u001b[0mprint\u001b[0m\u001b[1;33m(\u001b[0m\u001b[0mtheclass\u001b[0m\u001b[1;33m)\u001b[0m\u001b[1;33m\u001b[0m\u001b[0m\n",
      "\u001b[1;32m~\\AppData\\Local\\Programs\\Python\\Python36\\Scripts\\stockanalysis\\UI_Code.py\u001b[0m in \u001b[0;36m<module>\u001b[1;34m()\u001b[0m\n\u001b[0;32m     10\u001b[0m \u001b[1;32mimport\u001b[0m \u001b[0mthreading\u001b[0m\u001b[1;33m\u001b[0m\u001b[0m\n\u001b[0;32m     11\u001b[0m \u001b[1;32mimport\u001b[0m \u001b[0mnumpy\u001b[0m \u001b[1;32mas\u001b[0m \u001b[0mnp\u001b[0m\u001b[1;33m\u001b[0m\u001b[0m\n\u001b[1;32m---> 12\u001b[1;33m \u001b[1;32mfrom\u001b[0m \u001b[0msklearn\u001b[0m\u001b[1;33m.\u001b[0m\u001b[0msvm\u001b[0m \u001b[1;32mimport\u001b[0m \u001b[0mSVR\u001b[0m\u001b[1;33m\u001b[0m\u001b[0m\n\u001b[0m\u001b[0;32m     13\u001b[0m \u001b[1;32mimport\u001b[0m \u001b[0mmatplotlib\u001b[0m\u001b[1;33m.\u001b[0m\u001b[0mpyplot\u001b[0m \u001b[1;32mas\u001b[0m \u001b[0mplt\u001b[0m\u001b[1;33m\u001b[0m\u001b[0m\n\u001b[0;32m     14\u001b[0m \u001b[1;33m\u001b[0m\u001b[0m\n",
      "\u001b[1;31mModuleNotFoundError\u001b[0m: No module named 'sklearn'"
     ]
    }
   ],
   "source": [
    "import sys\n",
    "from PyQt5.QtCore import pyqtSlot\n",
    "from PyQt5.QtWidgets import QApplication, QDialog\n",
    "from PyQt5.uic import loadUi\n",
    "\n",
    "class MainPage(QDialog):\n",
    "    def __init__(self):\n",
    "        super(MainPage, self).__init__()\n",
    "        loadUi('homepage.ui',self)\n",
    "        #call the function to move to the currency exchange ui\n",
    "        self.pushButton.clicked.connect(self.move1)\n",
    "        #call the function to move to the us stock exchange ui\n",
    "        self.pushButton_4.clicked.connect(self.move2)\n",
    "        #call the function to move to the london stock exchange ui\n",
    "        self.pushButton_2.clicked.connect(self.move3)\n",
    "        #call the function to move to the shenzhen stock exchange ui\n",
    "        self.pushButton_3.clicked.connect(self.move4)\n",
    "    def move1(self):\n",
    "        from currency import AppWindow\n",
    "        theclass= AppWindow()\n",
    "        print(theclass)\n",
    "        theclass.exec_()\n",
    "    def move2(self):\n",
    "        from stocks import AppWindow2\n",
    "        theclass= AppWindow2()\n",
    "        print(theclass)\n",
    "        theclass.exec_()\n",
    "    def move3(self):\n",
    "        from UI_Code import LondonStocks\n",
    "        theclass=LondonStocks()\n",
    "        print(theclass)\n",
    "        theclass.exec_()\n",
    "    def move4(self):\n",
    "        from loader import stocks\n",
    "        theclass=stocks()\n",
    "        print(theclass)\n",
    "        theclass.exec_()\n",
    "\n",
    "app=QApplication(sys.argv)\n",
    "widget=MainPage()\n",
    "widget.show()\n",
    "sys.exit(app.exec_())"
   ]
  },
  {
   "cell_type": "code",
   "execution_count": null,
   "metadata": {},
   "outputs": [],
   "source": []
  },
  {
   "cell_type": "code",
   "execution_count": null,
   "metadata": {},
   "outputs": [],
   "source": []
  }
 ],
 "metadata": {
  "kernelspec": {
   "display_name": "Python 3",
   "language": "python",
   "name": "python3"
  },
  "language_info": {
   "codemirror_mode": {
    "name": "ipython",
    "version": 3
   },
   "file_extension": ".py",
   "mimetype": "text/x-python",
   "name": "python",
   "nbconvert_exporter": "python",
   "pygments_lexer": "ipython3",
   "version": "3.6.0"
  }
 },
 "nbformat": 4,
 "nbformat_minor": 2
}
